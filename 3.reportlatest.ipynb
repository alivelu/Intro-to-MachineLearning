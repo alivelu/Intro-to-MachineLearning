{
 "cells": [
  {
   "cell_type": "markdown",
   "metadata": {},
   "source": [
    "###### Question 1:\n",
    "Summarize for us the goal of this project and how machine learning is useful in trying to accomplish it. As part of your answer, give some background on the dataset and how it can be used to answer the project question. Were there any outliers in the data when you got it, and how did you handle those?  [relevant rubric items: “data exploration”, “outlier investigation”]\n",
    "\n",
    "\n",
    "###### Ans:"
   ]
  },
  {
   "cell_type": "markdown",
   "metadata": {},
   "source": [
    "#### Introduction\n",
    "Enron was one of the largest companies in the united states before 2002. After that it had collapsed into bankruptcy due to widespread corporate fraud. The aim of the algorithm is to predict the status of Enron employees as poi or non-poi. Poi means Person of Interest, i.e. a person involved in the Enron scandal. \n",
    "non-poi means  i.e person  not involved in the Enron scandal.\n",
    "\n",
    "This data is taken from the Enron dataset provided in the Udacity course.\n",
    "\n",
    "#### The goal of the project:\n",
    "To go through the following processes:\n",
    "* Data exploration:\n",
    "Understanding, examining, visualizing and cleaning the data. Learning the data through the above steps and repeat the steps if necessary.\n",
    "Once the data exploration is done, it is ready for feature selection/engineering.\n",
    "* Feature selection/engineering:\n",
    "Selecting the features manually(using human intuition) or automated. Create new features and get better results than the existing features.\n",
    "* Selecting an Algorithm\n",
    "Selecting one of the algorithms from many available algorithms. Ex: Naive Bayes, SVM etc\n",
    "* Tuning one of the supervised machine learning algorithm:\n",
    "Validating the algorithm to get the accurate prediction.\n",
    "\n",
    "As machine learning is very good at finding the relationship between variables,\n",
    "i.e features like poi's relation with salary and bonus etc are examined.\n",
    "This project is a binary classification problem.\n",
    "\n",
    "The Enron dataset in this project is a dictionary. The key-value pair in the dictionary corresponds to one person. The key in the dictionary is the person’s name and the value is another dictionary, which contains the names of all the features and their values for that person. \n",
    "* The features are divided into three types:\n",
    "    * Financial features\n",
    "    * Email features \n",
    "    * POI labels\n",
    "In this dataset POI label is the target feature (that we want to predict). The remaining features are input features. So here we are trying to find the relationship between the target feature and the input features using machine learning algorithms.\n",
    "\n",
    "The Enron dataset has 146 records with 14 financial features, 6 email features, and 1 labeled feature (POI). Out of the 146 records, 18 were labeled as persons of interest.\n",
    "\n",
    "###### Outliers\n",
    "I have used Seaborn’s pair plot which shows the distribution of the variables and a scatter plot representation to understand the data and outliers.\n",
    "\n",
    "Scatter plot of Salary vs Bonus to understand the data and outliers.\n",
    "\n",
    "TOTAL: This was an extreme outlier and it was likely a spreadsheet artifact.\n",
    "\n",
    "Also plotted the two aggregated variables. Total Payments and Total Stock Value.\n",
    "It looks like negative values are also there. I have used different ways to remove them and documented in the Ipynb file.\n",
    "\n",
    "THE TRAVEL AGENCY IN THE PARK: This record did not represent any person. It's a travel agency. So I removed."
   ]
  },
  {
   "cell_type": "markdown",
   "metadata": {},
   "source": [
    "###### Financial Features\n",
    "* Salary:\n",
    "* A fixed regular payment, typically paid on a monthly or biweekly basis but often expressed as an annual sum, made by an employer to an employee, especially a professional or white-collar worker.\n",
    "\n",
    "* Bonus:\n",
    "* The bonus is the extra payment which is received as a reward for doing one’s job well. It usually comes along with the salary of the employee. It is the gesture of appreciation from the organization towards their employees.\n",
    "\n",
    "* Long-Term Incentive\n",
    "* Reflects long-term incentive cash payments from various long-term incentive programs designed to tie executive compensation to long-term success as measured against key performance drivers and business objectives over a multi-year period, generally 3 to 5 years\n",
    "\n",
    "* Deferred income\n",
    "* Reflects voluntary executive deferrals of salary, annual cash incentives, and long-term cash incentives as well as cash fees deferred by non-employee directors under a deferred compensation arrangement.  May also reflect deferrals under a stock option or phantom stock unit in lieu of cash arrangement.  \n",
    "\n",
    "* Deferral Payments:\n",
    "* Reflects distributions from a deferred compensation arrangement due to termination of employment or due to in-service withdrawals as per plan provisions.\n",
    "\n",
    "* Loan Advances\n",
    "* Reflects the total amount of loan advances, excluding repayments, provided by the Debtor in return for a promise of repayment. In certain instances, the terms of the promissory notes allow for the option to repay with the stock of the company.\n",
    "\n",
    "* Other\n",
    "* Reflects items such as payments for severance, consulting services, relocation costs, tax advances and allowances for employees on international assignment (i.e. housing allowances, cost of living allowances, payments under Enron’s Tax Equalization Program, etc.).  May also include payments provided with respect to employment agreements, as well as imputed income amounts for such things as use of corporate aircraft.\n",
    "\n",
    "* Expenses\n",
    "* Reflects reimbursements of business expenses.  May include fees paid for consulting services. \n",
    "\n",
    "* Director Fees\n",
    "*  Reflects cash payments and/or value of stock grants made in lieu of cash payments to non-employee directors.\n",
    "\n",
    "* Total Payments\t\n",
    "* Sum of the above values"
   ]
  },
  {
   "cell_type": "markdown",
   "metadata": {},
   "source": [
    "#### Financial features related to stocks\n"
   ]
  },
  {
   "cell_type": "markdown",
   "metadata": {},
   "source": [
    "* Exercised Stock Options\n",
    "* Reflects amounts from exercised stock options which equal the market value in excess of the exercise price on the date the options were exercised either through cashless (same-day sale), stock swap or cash exercises.  The reflected gain may differ from that realized by the insider due to fluctuations in the market price and the timing of any subsequent sale of the securities.\n",
    "\n",
    "* Restricted Stock\n",
    "* Reflects the gross fair market value of shares and accrued dividends (and/or phantom units and dividend equivalents) on the date of release due to the lapse of vesting periods, regardless of whether deferred.\n",
    "\n",
    "* Restricted StockDeferred\n",
    "* Reflects value of restricted stock voluntarily deferred prior to release under a deferred compensation arrangement.\n",
    "\n",
    "* Total Stock Value\n",
    "* Sum of the above values"
   ]
  },
  {
   "cell_type": "markdown",
   "metadata": {},
   "source": [
    "#### Email Features"
   ]
  },
  {
   "cell_type": "markdown",
   "metadata": {},
   "source": [
    "* to_messages\n",
    "* Total number of emails received (person’s inbox)\n",
    "\n",
    "* email_address\n",
    "* Email address of the person\n",
    "\n",
    "* from_poi_to_this_person\n",
    "* Number of emails received by POIs\n",
    "\n",
    "* from_messages\n",
    "* Total number of emails sent by this person\n",
    "\n",
    "* from_this_person_to_poi\n",
    "* Number of emails sent by this person to a POI.\n",
    "\n",
    "* shared_receipt_with_ poi\n",
    "* Number of emails addressed by someone else to a POI where this person was CC"
   ]
  },
  {
   "cell_type": "markdown",
   "metadata": {},
   "source": [
    "#### Import the Enron dataset \n",
    "\n",
    "Import the Enron dataset pickle file from the Udacity Machine Learning course.\n",
    "Name the file as enron_data."
   ]
  },
  {
   "cell_type": "code",
   "execution_count": 7,
   "metadata": {},
   "outputs": [
    {
     "data": {
      "text/plain": [
       "(146, 21)"
      ]
     },
     "execution_count": 7,
     "metadata": {},
     "output_type": "execute_result"
    }
   ],
   "source": [
    "#To know the number of rows and columns\n",
    "enrondata_df_tr.shape"
   ]
  },
  {
   "cell_type": "markdown",
   "metadata": {},
   "source": [
    "* There are total 146 rows and 21 columns\n",
    "* There are 146 observations in total\n",
    "* 21 variables in total"
   ]
  },
  {
   "cell_type": "markdown",
   "metadata": {},
   "source": [
    "The features in the data fall into three major types, namely financial features, email features and POI labels.\n",
    "\n",
    "financial features: ['salary', 'deferral_payments', 'total_payments', 'loan_advances', 'bonus', 'restricted_stock_deferred', 'deferred_income', 'total_stock_value', 'expenses', 'exercised_stock_options', 'other', 'long_term_incentive', 'restricted_stock', 'director_fees'] (all units are in US dollars)\n",
    "\n",
    "email features: ['to_messages', 'email_address', 'from_poi_to_this_person', 'from_messages', 'from_this_person_to_poi', 'shared_receipt_with_poi'] (units are generally number of emails messages; notable exception is ‘email_address’, which is a text string)\n",
    "\n",
    "POI label: [‘poi’] (boolean, represented as integer)"
   ]
  },
  {
   "cell_type": "markdown",
   "metadata": {},
   "source": [
    "14 financial features \n",
    "6 email features\n",
    "1 POI label"
   ]
  },
  {
   "cell_type": "code",
   "execution_count": 16,
   "metadata": {},
   "outputs": [
    {
     "name": "stdout",
     "output_type": "stream",
     "text": [
      "Count of all values in the dataset:  3066\n"
     ]
    }
   ],
   "source": [
    "print(\"Count of all values in the dataset: \", 146*21)"
   ]
  },
  {
   "cell_type": "code",
   "execution_count": 17,
   "metadata": {},
   "outputs": [
    {
     "name": "stdout",
     "output_type": "stream",
     "text": [
      "Amount of NaN values in the dataset:  1358\n"
     ]
    }
   ],
   "source": [
    "print(\"Amount of NaN values in the dataset: \", enrondata_df_tr.isnull().sum().sum())"
   ]
  },
  {
   "cell_type": "code",
   "execution_count": 18,
   "metadata": {},
   "outputs": [
    {
     "data": {
      "text/plain": [
       "18"
      ]
     },
     "execution_count": 18,
     "metadata": {},
     "output_type": "execute_result"
    }
   ],
   "source": [
    "#to know the numper of poi\n",
    "len(enrondata_df_tr[enrondata_df_tr['poi']])"
   ]
  },
  {
   "cell_type": "code",
   "execution_count": 19,
   "metadata": {},
   "outputs": [
    {
     "name": "stdout",
     "output_type": "stream",
     "text": [
      "There are 18 POIs and 128 non-POIs.\n"
     ]
    }
   ],
   "source": [
    "# Allocation across classes (POI/non-POI)\n",
    "poi_counts = defaultdict(int)\n",
    "for features_values in data_dict.values():\n",
    "    poi_counts[features_values['poi']] += 1\n",
    "print('There are {} POIs and {} non-POIs.'.format(poi_counts[True], poi_counts[False]))"
   ]
  },
  {
   "cell_type": "code",
   "execution_count": 20,
   "metadata": {
    "scrolled": true
   },
   "outputs": [
    {
     "data": {
      "text/plain": [
       "Text(0,0.5,'Count of poi')"
      ]
     },
     "execution_count": 20,
     "metadata": {},
     "output_type": "execute_result"
    },
    {
     "data": {
      "image/png": "[encoded data removed]",
      "text/plain": [
       "<Figure size 432x288 with 1 Axes>"
      ]
     },
     "metadata": {},
     "output_type": "display_data"
    }
   ],
   "source": [
    "#Import pandas library\n",
    "import pandas as pd\n",
    "from pandas import Series, DataFrame\n",
    "#Import numpy\n",
    "import numpy as np\n",
    "import matplotlib.pyplot as plt\n",
    "import seaborn as sns\n",
    "#Set style for all graphs\n",
    "sns.set_style(\"darkgrid\")\n",
    "# To render plots inline\n",
    "%matplotlib inline\n",
    "#To visualize poi vs nonpoi in the whole data set\n",
    "enrondata_df_tr['poi'].value_counts().plot(kind = 'bar')\n",
    "plt.title(\"Histogram for poi\")\n",
    "plt.xlabel('Point Of Interest')\n",
    "plt.ylabel('Count of poi')"
   ]
  },
  {
   "cell_type": "markdown",
   "metadata": {},
   "source": [
    "18 POIs are there. Which are very important in our Analysis. Do not delete the POIs.\n",
    "During data exploration if any outliers the Non POIs can be deleted."
   ]
  },
  {
   "cell_type": "markdown",
   "metadata": {},
   "source": [
    "18 POI’s are there"
   ]
  },
  {
   "cell_type": "markdown",
   "metadata": {},
   "source": [
    "###### Outliers & Exploration\n",
    "I have used Seaborn’s pair plot which shows the distribution of the variables and a scatter plot representation to understand the data and outliers.\n",
    "\n",
    "Scatter plot of Salary vs Bonus to understand the data and outliers.\n",
    "\n",
    "TOTAL: This was an extreme outlier and it was likely a spreadsheet artifact.\n",
    "\n",
    "Also plotted the two aggregated variables. Total Payments and Total Stock Value.\n",
    "It looks like negative values are also there. I have used different ways to remove them and documented in the Ipynb file.\n",
    "\n",
    "THE TRAVEL AGENCY IN THE PARK: This record did not represent any person. It's a travel agency. So I removed."
   ]
  },
  {
   "cell_type": "code",
   "execution_count": 24,
   "metadata": {},
   "outputs": [
    {
     "data": {
      "text/html": [
       "<div>\n",
       "<style scoped>\n",
       "    .dataframe tbody tr th:only-of-type {\n",
       "        vertical-align: middle;\n",
       "    }\n",
       "\n",
       "    .dataframe tbody tr th {\n",
       "        vertical-align: top;\n",
       "    }\n",
       "\n",
       "    .dataframe thead th {\n",
       "        text-align: right;\n",
       "    }\n",
       "</style>\n",
       "<table border=\"1\" class=\"dataframe\">\n",
       "  <thead>\n",
       "    <tr style=\"text-align: right;\">\n",
       "      <th></th>\n",
       "      <th>restricted_stock</th>\n",
       "      <th>bonus</th>\n",
       "      <th>long_term_incentive</th>\n",
       "      <th>restricted_stock_deferred</th>\n",
       "      <th>other</th>\n",
       "      <th>poi</th>\n",
       "      <th>from_this_person_to_poi</th>\n",
       "      <th>shared_receipt_with_poi</th>\n",
       "      <th>to_messages</th>\n",
       "      <th>total_stock_value</th>\n",
       "      <th>exercised_stock_options</th>\n",
       "      <th>loan_advances</th>\n",
       "      <th>total_payments</th>\n",
       "      <th>expenses</th>\n",
       "      <th>from_messages</th>\n",
       "      <th>deferral_payments</th>\n",
       "      <th>from_poi_to_this_person</th>\n",
       "      <th>deferred_income</th>\n",
       "      <th>salary</th>\n",
       "      <th>director_fees</th>\n",
       "    </tr>\n",
       "  </thead>\n",
       "  <tbody>\n",
       "  </tbody>\n",
       "</table>\n",
       "</div>"
      ],
      "text/plain": [
       "Empty DataFrame\n",
       "Columns: [restricted_stock, bonus, long_term_incentive, restricted_stock_deferred, other, poi, from_this_person_to_poi, shared_receipt_with_poi, to_messages, total_stock_value, exercised_stock_options, loan_advances, total_payments, expenses, from_messages, deferral_payments, from_poi_to_this_person, deferred_income, salary, director_fees]\n",
       "Index: []"
      ]
     },
     "execution_count": 24,
     "metadata": {},
     "output_type": "execute_result"
    }
   ],
   "source": [
    "# Check whoich row has all values missing\n",
    "enrondata_df_tr[enrondata_df_tr.isnull().all(axis=1)]"
   ]
  },
  {
   "cell_type": "markdown",
   "metadata": {},
   "source": [
    "LOCKHART EUGENE E” has all the values missing and will be removed"
   ]
  },
  {
   "cell_type": "markdown",
   "metadata": {},
   "source": [
    "I will use Seaborn’s pair plot to understand the distribution of the variables and a scatter plot representation of them. Since the number of variables is too many to plot them all, I will use the 4 important ones."
   ]
  },
  {
   "cell_type": "code",
   "execution_count": 39,
   "metadata": {},
   "outputs": [
    {
     "data": {
      "text/plain": [
       "<seaborn.axisgrid.PairGrid at 0x20232effa20>"
      ]
     },
     "execution_count": 39,
     "metadata": {},
     "output_type": "execute_result"
    },
    {
     "data": {
      "image/png": "[encoded data removed]",
      "text/plain": [
       "<Figure size 780.625x720 with 20 Axes>"
      ]
     },
     "metadata": {},
     "output_type": "display_data"
    }
   ],
   "source": [
    "sns.pairplot(data=enrondata_df_tr, vars=[\"total_payments\", \"exercised_stock_options\", \"restricted_stock\", \"total_stock_value\"], hue=\"poi\")"
   ]
  },
  {
   "cell_type": "markdown",
   "metadata": {},
   "source": [
    "Salary vs bonus using Scatter plot"
   ]
  },
  {
   "cell_type": "code",
   "execution_count": 40,
   "metadata": {},
   "outputs": [
    {
     "data": {
      "text/plain": [
       "<matplotlib.axes._subplots.AxesSubplot at 0x202344a4518>"
      ]
     },
     "execution_count": 40,
     "metadata": {},
     "output_type": "execute_result"
    },
    {
     "data": {
      "image/png": "[encoded data removed]",
      "text/plain": [
       "<Figure size 432x288 with 1 Axes>"
      ]
     },
     "metadata": {},
     "output_type": "display_data"
    }
   ],
   "source": [
    "# Scatter plot of salary vs bonus\n",
    "enrondata_df_tr.plot.scatter(x = 'salary', y = 'bonus')"
   ]
  },
  {
   "cell_type": "markdown",
   "metadata": {},
   "source": [
    "There is a datapoint far away from the cluster of the rest. I will use the salary + bonus to find it"
   ]
  },
  {
   "cell_type": "code",
   "execution_count": 41,
   "metadata": {},
   "outputs": [
    {
     "data": {
      "text/plain": [
       "TOTAL              124047848.0\n",
       "LAVORATO JOHN J      8339288.0\n",
       "dtype: float64"
      ]
     },
     "execution_count": 41,
     "metadata": {},
     "output_type": "execute_result"
    }
   ],
   "source": [
    "(enrondata_df_tr.salary + enrondata_df_tr.bonus).nlargest(2)"
   ]
  },
  {
   "cell_type": "code",
   "execution_count": 42,
   "metadata": {},
   "outputs": [
    {
     "data": {
      "text/plain": [
       "'TOTAL'"
      ]
     },
     "execution_count": 42,
     "metadata": {},
     "output_type": "execute_result"
    }
   ],
   "source": [
    "enrondata_df_tr['salary'].idxmax()"
   ]
  },
  {
   "cell_type": "markdown",
   "metadata": {},
   "source": [
    "Let's check the total_payments"
   ]
  },
  {
   "cell_type": "code",
   "execution_count": 43,
   "metadata": {},
   "outputs": [
    {
     "data": {
      "text/plain": [
       "TOTAL            309886585.0\n",
       "LAY KENNETH L    103559793.0\n",
       "Name: total_payments, dtype: float64"
      ]
     },
     "execution_count": 43,
     "metadata": {},
     "output_type": "execute_result"
    }
   ],
   "source": [
    "enrondata_df_tr.total_payments.nlargest(2)"
   ]
  },
  {
   "cell_type": "markdown",
   "metadata": {},
   "source": [
    "The first one ‘TOTAL’, is the totals on the Payments Schedule and not a person so it should be removed.\n",
    "The second one is not an outlier, it is just the huge payment and stock value of the CEO and chairman of Enron, Kenneth Lay. This is not an outlier. "
   ]
  },
  {
   "cell_type": "markdown",
   "metadata": {},
   "source": [
    "So it's total of all the employee salaries. So we have to remove it using drop."
   ]
  },
  {
   "cell_type": "code",
   "execution_count": 44,
   "metadata": {},
   "outputs": [
    {
     "data": {
      "text/plain": [
       "<matplotlib.axes._subplots.AxesSubplot at 0x202349be7b8>"
      ]
     },
     "execution_count": 44,
     "metadata": {},
     "output_type": "execute_result"
    },
    {
     "data": {
      "image/png": "[encoded data removed]",
      "text/plain": [
       "<Figure size 432x288 with 1 Axes>"
      ]
     },
     "metadata": {},
     "output_type": "display_data"
    }
   ],
   "source": [
    "enrondata_df_tr.drop('TOTAL', inplace = True)\n",
    "enrondata_df_tr.plot.scatter(x = 'salary', y = 'bonus')"
   ]
  },
  {
   "cell_type": "code",
   "execution_count": 45,
   "metadata": {},
   "outputs": [
    {
     "data": {
      "text/plain": [
       "<seaborn.axisgrid.PairGrid at 0x202349f9a20>"
      ]
     },
     "execution_count": 45,
     "metadata": {},
     "output_type": "execute_result"
    },
    {
     "data": {
      "image/png": "[encoded data removed]",
      "text/plain": [
       "<Figure size 780.625x720 with 20 Axes>"
      ]
     },
     "metadata": {},
     "output_type": "display_data"
    }
   ],
   "source": [
    "sns.pairplot(data=enrondata_df_tr, vars=[\"total_payments\", \"exercised_stock_options\", \"restricted_stock\", \"total_stock_value\"], hue=\"poi\")"
   ]
  },
  {
   "cell_type": "markdown",
   "metadata": {},
   "source": [
    "After removing the “TOTAL” the scatter plots are little clear. We can notice a negative value for the restricted stock variable. So more outliers are present. We can check the sum of individual values with the totals of each category i.e total Payments, and total stock value."
   ]
  },
  {
   "cell_type": "markdown",
   "metadata": {},
   "source": [
    "Let us plot the two aggregated variables, Total Payments and Total Stock Value."
   ]
  },
  {
   "cell_type": "code",
   "execution_count": 47,
   "metadata": {},
   "outputs": [
    {
     "data": {
      "image/png": "[encoded data removed]",
      "text/plain": [
       "<Figure size 432x288 with 1 Axes>"
      ]
     },
     "metadata": {},
     "output_type": "display_data"
    }
   ],
   "source": [
    "fig1, ax = plt.subplots()\n",
    "for poi, data in enrondata_df_tr.groupby(by=\"poi\"):\n",
    "    ax.plot(data['total_payments'],data['total_stock_value'],'o', label=poi)\n",
    "ax.legend()\n",
    "plt.xscale('symlog')\n",
    "plt.yscale('symlog')\n",
    "plt.xlabel(\"Total Payments\")\n",
    "plt.ylabel(\"Total Stock Value\")\n",
    "\n",
    "plt.show()"
   ]
  },
  {
   "cell_type": "markdown",
   "metadata": {},
   "source": [
    "So negative values are there."
   ]
  },
  {
   "cell_type": "markdown",
   "metadata": {},
   "source": [
    "To investigate if there are more.\n",
    "\n",
    "We can notice that the indexes/names in the dataset are in the form of Last name, First Name, Initial. Using regular expressions print the indexes that do not follow this pattern."
   ]
  },
  {
   "cell_type": "code",
   "execution_count": 49,
   "metadata": {},
   "outputs": [
    {
     "name": "stdout",
     "output_type": "stream",
     "text": [
      "BLAKE JR. NORMAN P\n",
      "BOWEN JR RAYMOND M\n",
      "DERRICK JR. JAMES V\n",
      "DONAHUE JR JEFFREY M\n",
      "GARLAND C KEVIN\n",
      "GLISAN JR BEN F\n",
      "OVERDYKE JR JERE C\n",
      "PEREIRA PAULO V. FERRAZ\n",
      "SULLIVAN-SHAKLOVITZ COLLEEN\n",
      "THE TRAVEL AGENCY IN THE PARK\n",
      "WALLS JR ROBERT H\n",
      "WHITE JR THOMAS E\n",
      "WINOKUR JR. HERBERT S\n",
      "YEAGER F SCOTT\n"
     ]
    }
   ],
   "source": [
    "for index in enrondata_df_tr.index:\n",
    "    if re.match('^[A-Z]+\\s[A-Z]+(\\s[A-Z])?$', index):\n",
    "        continue\n",
    "    else:\n",
    "        print(index)"
   ]
  },
  {
   "cell_type": "markdown",
   "metadata": {},
   "source": [
    "There is a “suspicious” index. THE TRAVEL AGENCY IN THE PARK isn’t obviously a name of an employee."
   ]
  },
  {
   "cell_type": "code",
   "execution_count": 50,
   "metadata": {},
   "outputs": [],
   "source": [
    "enrondata_df_tr = enrondata_df_tr.drop([\"THE TRAVEL AGENCY IN THE PARK\"], axis=0)"
   ]
  },
  {
   "cell_type": "markdown",
   "metadata": {},
   "source": [
    "Let us plot the two aggregated variables, Total Payments, and Total Stock Value."
   ]
  },
  {
   "cell_type": "code",
   "execution_count": 60,
   "metadata": {},
   "outputs": [
    {
     "data": {
      "image/png": "[encoded data removed]",
      "text/plain": [
       "<Figure size 432x288 with 1 Axes>"
      ]
     },
     "metadata": {},
     "output_type": "display_data"
    }
   ],
   "source": [
    "fig1, ax = plt.subplots()\n",
    "for poi, data in enrondata_df_tr.groupby(by=\"poi\"):\n",
    "    ax.plot(data['total_payments'],data['total_stock_value'],'o', label=poi)\n",
    "ax.legend()\n",
    "plt.xscale('symlog')\n",
    "plt.yscale('symlog')\n",
    "plt.xlabel(\"Total Payments\")\n",
    "plt.ylabel(\"Total Stock Value\")\n",
    "\n",
    "plt.show()"
   ]
  },
  {
   "cell_type": "markdown",
   "metadata": {},
   "source": [
    "So the negative value is removed"
   ]
  },
  {
   "cell_type": "code",
   "execution_count": 87,
   "metadata": {},
   "outputs": [
    {
     "name": "stdout",
     "output_type": "stream",
     "text": [
      "CLINE KENNETH W\n",
      "LOCKHART EUGENE E\n",
      "POWERS WILLIAM\n",
      "CHAN RONNIE\n",
      "HAYSLETT RODERICK J\n",
      "PIRO JIM\n"
     ]
    }
   ],
   "source": [
    "for person in data_dict:\n",
    "    if (data_dict[person]['salary'] =='NaN' and data_dict[person]['bonus'] =='NaN' and data_dict[person]['exercised_stock_options'] =='NaN' and data_dict[person]['long_term_incentive'] =='NaN' and data_dict[person]['total_payments'] =='NaN' and data_dict[person]['poi']== False):\n",
    "        print(person)"
   ]
  },
  {
   "cell_type": "markdown",
   "metadata": {},
   "source": [
    "Above persons can be removed, As they are not POI."
   ]
  },
  {
   "cell_type": "code",
   "execution_count": 88,
   "metadata": {},
   "outputs": [],
   "source": [
    "enrondata_df_tr = enrondata_df_tr.drop([\"POWERS WILLIAM\"], axis=0)"
   ]
  },
  {
   "cell_type": "code",
   "execution_count": 89,
   "metadata": {},
   "outputs": [],
   "source": [
    "enrondata_df_tr = enrondata_df_tr.drop([\"CHAN RONNIE\"], axis=0)"
   ]
  },
  {
   "cell_type": "code",
   "execution_count": 90,
   "metadata": {},
   "outputs": [],
   "source": [
    "enrondata_df_tr = enrondata_df_tr.drop([\"HAYSLETT RODERICK J\"], axis=0)"
   ]
  },
  {
   "cell_type": "code",
   "execution_count": 91,
   "metadata": {},
   "outputs": [],
   "source": [
    "enrondata_df_tr = enrondata_df_tr.drop([\"PIRO JIM\"], axis=0)"
   ]
  },
  {
   "cell_type": "code",
   "execution_count": 92,
   "metadata": {},
   "outputs": [],
   "source": [
    "enrondata_df_tr = enrondata_df_tr.drop([\"CLINE KENNETH W\"], axis=0)"
   ]
  },
  {
   "cell_type": "code",
   "execution_count": 93,
   "metadata": {},
   "outputs": [],
   "source": [
    "#Already removed\n",
    "#enrondata_df_tr = enrondata_df_tr.drop([\"LOCKHART EUGENE E\"], axis=0)"
   ]
  },
  {
   "cell_type": "code",
   "execution_count": 94,
   "metadata": {},
   "outputs": [
    {
     "data": {
      "image/png": "[encoded data removed]",
      "text/plain": [
       "<Figure size 432x288 with 1 Axes>"
      ]
     },
     "metadata": {},
     "output_type": "display_data"
    }
   ],
   "source": [
    "fig1, ax = plt.subplots()\n",
    "for poi, data in enrondata_df_tr.groupby(by=\"poi\"):\n",
    "    ax.plot(data['total_payments'],data['total_stock_value'],'o', label=poi)\n",
    "ax.legend()\n",
    "plt.xscale('symlog')\n",
    "plt.yscale('symlog')\n",
    "plt.xlabel(\"Total Payments\")\n",
    "plt.ylabel(\"Total Stock Value\")\n",
    "\n",
    "plt.show()"
   ]
  },
  {
   "cell_type": "code",
   "execution_count": 131,
   "metadata": {},
   "outputs": [
    {
     "data": {
      "image/png": "[encoded data removed]",
      "text/plain": [
       "<Figure size 432x288 with 1 Axes>"
      ]
     },
     "metadata": {},
     "output_type": "display_data"
    }
   ],
   "source": [
    "fig1, ax = plt.subplots()\n",
    "for poi, data in enrondata_df_tr.groupby(by=\"poi\"):\n",
    "    ax.plot(data['total_payments'],data['total_stock_value'],'o', label=poi)\n",
    "ax.legend()\n",
    "plt.xscale('symlog')\n",
    "plt.yscale('symlog')\n",
    "plt.xlabel(\"Total Payments\")\n",
    "plt.ylabel(\"Total Stock Value\")\n",
    "\n",
    "plt.show()"
   ]
  },
  {
   "cell_type": "markdown",
   "metadata": {},
   "source": [
    "Still 3 or more outliers left. But the dataset is clear of many outliers. "
   ]
  },
  {
   "cell_type": "markdown",
   "metadata": {},
   "source": [
    "###### 2. What features did you end up using in your POI identifier, and what selection process did you use to pick them? Did you have to do any scaling? Why or why not? As part of the assignment, you should attempt to engineer your own feature that does not come ready-made in the dataset -- explain what feature you tried to make, and the rationale behind it. (You do not necessarily have to use it in the final analysis, only engineer and test it.) In your feature selection step, if you used an algorithm like a decision tree, please also give the feature importances of the features that you use, and if you used an automated feature selection function like SelectKBest, please report the feature scores and reasons for your choice of parameter values.  [relevant rubric items: “create new features”, “intelligently select features”, “properly scale features”]"
   ]
  },
  {
   "cell_type": "markdown",
   "metadata": {},
   "source": [
    "###### Answer"
   ]
  },
  {
   "cell_type": "markdown",
   "metadata": {},
   "source": [
    "There are many methods available for performing feature selection in machine learning. \n",
    "    \n",
    "* Manual selection based on understanding, exploration & plots of data.\n",
    "\n",
    "###### Manual selection\n",
    "I have created 5 new features:\n",
    "\n",
    "* perc_exercised_stock_options: the percentage of stock options from total stock value\n",
    "* perc_salary: the percentage of salary from total payments\n",
    "* perc_bonus: the percentage of bonus from total payments\n",
    "* perc_from_poi: the percentage of emails the person received from a poi\n",
    "* perc_to_poi: the percentage of emails the person sent to a poi\n",
    "\n",
    "This was calculated by the following formulas:\n",
    "* perc_salary = salary/total_payments\n",
    "* perc_bonus = bonus/total_payments\n",
    "* perc_exercised_stock_options = exercised_stock_options/total_stock_value\n",
    "* perc_to_poi = from_this_person_to_poi / from_messages\n",
    "* perc_from_poi = from_poi_to_this_person/ to_messages\n",
    "\n",
    "After adding these 5 new features to our data, we now had a total of 25 features. Previously we used to have a very low number of poi 18 out of 128 nearly 14%. After removing outliers it improved a little bit. But still, have a low number of POI in the dataset (18 out of 90 nearly 20%).\n",
    "\n",
    "Creating a model with all 25 features is ripe for overfitting. When a model has a larger number of features, there is bound to be more noise. If the model picks up the noise in the dataset when trained, it loses predictive power. So we need to reduce the number of features in the dataset, which in turn will reduce the potential for overfitting.\n",
    "\n",
    "We already know that null data is present in our original dataset. To select the appropriate features. Out of 21 features, 80% of the dataset is approximate to 17 features. I have used pandas.DataFrame.dropna with parameter thresh = 16, to remove the rows with more than 16 null values. That means to keep any row with more than 16 non-null values.\n",
    "#count_notnull_dataset = enron_data.dropna(thresh=16)\n",
    "\n",
    "I have removed the following columns using drop:\n",
    "* loan_advances                2 non-null float64()\n",
    "* restricted_stock_deferred    5 non-null float64\n",
    "* director_fees                0 non-null float64\n",
    "* deferral_payments            14 non-null float64\n",
    "\n",
    "So I chose 21 features (including “poi”) as the manually selected features_list.\n",
    "\n",
    "selected_features_list:\n",
    "\n",
    "['poi',\n",
    " 'bonus',\n",
    " 'shared_receipt_with_poi',\n",
    " 'from_poi_to_this_person',\n",
    " 'from_this_person_to_poi',\n",
    " 'other',\n",
    " 'from_messages',\n",
    " 'deferred_income',\n",
    " 'long_term_incentive',\n",
    " 'salary',\n",
    " 'total_payments',\n",
    " 'exercised_stock_options',\n",
    " 'restricted_stock',\n",
    " 'to_messages',\n",
    " 'total_stock_value',\n",
    " 'expenses',\n",
    " 'perc_salary',\n",
    " 'perc_bonus',\n",
    " 'perc_exercised_stock_options',\n",
    " 'perc_to_poi',\n",
    " 'perc_from_poi']\n",
    " \n",
    "Using the selected_features_list, the classifiers scores are documented in Ipynb file.\n",
    "\n"
   ]
  },
  {
   "cell_type": "markdown",
   "metadata": {},
   "source": [
    "###### Importances method\n",
    "Here I will modify the list of features to exclude those with an importance below a chosen threshold.\n",
    "\n",
    "Below are the feature importances for the DecisionTree, AdaBoost Classifier, and RandomForest. I have compared the feature importances of the DecisionTree, AdaBoost and Random Forest classifiers. The values are completely different from one classifier to another classifier. So instead of manually selecting the features, I have tried to find the k value using Gridsearch and SelectKbest. Then I have used that k value with GridSearchCV in combination with several parameters to find the best parameters and score. \n",
    "\n",
    "The SelectKBest defaults to scoring parameters using the ANOVA F-value, Which is a measure of variation between sample means. A higher value means that there is more variation in that feature between person of interests and nonpersons of interest. "
   ]
  },
  {
   "cell_type": "code",
   "execution_count": 171,
   "metadata": {},
   "outputs": [
    {
     "name": "stdout",
     "output_type": "stream",
     "text": [
      "Tree Feature Importances:\n",
      "\n",
      "shared_receipt_with_poi : 0.2628\n",
      "perc_to_poi : 0.2517\n",
      "expenses : 0.2108\n",
      "other : 0.0798\n",
      "total_stock_value : 0.0714\n",
      "total_payments : 0.0499\n",
      "perc_bonus : 0.0499\n",
      "exercised_stock_options : 0.0238\n",
      "restricted_stock : 0.0000\n",
      "bonus : 0.0000\n"
     ]
    }
   ],
   "source": [
    "# Feature importances of the DecisionTree Classifier\n",
    "tree_feature_importances = (dt.feature_importances_)\n",
    "tree_features = zip(tree_feature_importances, selected_features_list[1:])\n",
    "tree_features = sorted(tree_features, key= lambda x:x[0], reverse=True)\n",
    "\n",
    "# Display the feature names and importance values\n",
    "print('Tree Feature Importances:\\n')\n",
    "for i in range(10):\n",
    "    print('{} : {:.4f}'.format(tree_features[i][1], tree_features[i][0]))"
   ]
  },
  {
   "cell_type": "code",
   "execution_count": 174,
   "metadata": {},
   "outputs": [
    {
     "data": {
      "text/plain": [
       "{'selector__k': 8}"
      ]
     },
     "execution_count": 174,
     "metadata": {},
     "output_type": "execute_result"
    }
   ],
   "source": [
    "treeclf.best_params_"
   ]
  },
  {
   "cell_type": "markdown",
   "metadata": {},
   "source": [
    "##### AdaBoostClassifier:"
   ]
  },
  {
   "cell_type": "code",
   "execution_count": 184,
   "metadata": {},
   "outputs": [
    {
     "name": "stdout",
     "output_type": "stream",
     "text": [
      "Ada Boost Feature Importances:\n",
      "\n",
      "other : 0.1200\n",
      "perc_to_poi : 0.1200\n",
      "total_stock_value : 0.0800\n",
      "total_payments : 0.0800\n",
      "perc_bonus : 0.0800\n",
      "long_term_incentive : 0.0600\n",
      "shared_receipt_with_poi : 0.0600\n",
      "perc_exercised_stock_options : 0.0600\n",
      "perc_from_poi : 0.0600\n",
      "restricted_stock : 0.0400\n",
      "to_messages : 0.0400\n",
      "exercised_stock_options : 0.0400\n",
      "expenses : 0.0400\n",
      "deferred_income : 0.0400\n",
      "perc_salary : 0.0400\n",
      "bonus : 0.0200\n",
      "from_this_person_to_poi : 0.0200\n",
      "from_messages : 0.0000\n",
      "from_poi_to_this_person : 0.0000\n",
      "salary : 0.0000\n"
     ]
    }
   ],
   "source": [
    "# Get the feature importances for the AdaBoost Classifier\n",
    "ada_feature_importances = abc.feature_importances_\n",
    "ada_features = zip(ada_feature_importances, selected_features_list[1:])\n",
    "\n",
    "# Display the feature names and importance values\n",
    "print('Ada Boost Feature Importances:\\n')\n",
    "ada_features = sorted(ada_features, key=lambda x:x[0], reverse=True)\n",
    "for i in range(20):\n",
    "    print('{} : {:.4f}'.format(ada_features[i][1], ada_features[i][0]))"
   ]
  },
  {
   "cell_type": "code",
   "execution_count": 186,
   "metadata": {},
   "outputs": [
    {
     "data": {
      "text/plain": [
       "{'selector__k': 9}"
      ]
     },
     "execution_count": 186,
     "metadata": {},
     "output_type": "execute_result"
    }
   ],
   "source": [
    "adaclf.best_params_"
   ]
  },
  {
   "cell_type": "markdown",
   "metadata": {},
   "source": [
    "##### RandomForestClassifier\n"
   ]
  },
  {
   "cell_type": "code",
   "execution_count": 199,
   "metadata": {},
   "outputs": [
    {
     "name": "stdout",
     "output_type": "stream",
     "text": [
      "Random Forest Feature Importances:\n",
      "\n",
      "perc_to_poi : 0.1187\n",
      "shared_receipt_with_poi : 0.1002\n",
      "total_stock_value : 0.0990\n",
      "perc_from_poi : 0.0826\n",
      "from_this_person_to_poi : 0.0816\n",
      "other : 0.0807\n",
      "exercised_stock_options : 0.0676\n",
      "expenses : 0.0644\n",
      "perc_bonus : 0.0497\n",
      "total_payments : 0.0475\n"
     ]
    }
   ],
   "source": [
    "# Get the feature importances of the DecisionTree Classifier\n",
    "rf_feature_importances = (rf.feature_importances_)\n",
    "rf_features = zip(rf_feature_importances, selected_features_list[1:])\n",
    "rf_features = sorted(rf_features, key= lambda x:x[0], reverse=True)\n",
    "\n",
    "# Display the feature names and importance values\n",
    "print('Random Forest Feature Importances:\\n')\n",
    "for i in range(10):\n",
    "    print('{} : {:.4f}'.format(rf_features[i][1], rf_features[i][0]))"
   ]
  },
  {
   "cell_type": "code",
   "execution_count": 202,
   "metadata": {},
   "outputs": [
    {
     "data": {
      "text/plain": [
       "{'selector__k': 9}"
      ]
     },
     "execution_count": 202,
     "metadata": {},
     "output_type": "execute_result"
    }
   ],
   "source": [
    "rfclf.best_params_"
   ]
  },
  {
   "cell_type": "markdown",
   "metadata": {},
   "source": [
    "###### Automatically feature selection:\n",
    "\n",
    "* Univariate Feature Selection\n",
    "* Automatic selection of features in Sklearn fall under the umbrella of univariate feature selection. \n",
    "* There are two univariate feature selection tools in sklearn: \n",
    "* SelectPercentile\n",
    "* SelectKBest. \n",
    "* The difference is:\n",
    "   \n",
    "    * SelectKBest selects the K features that are most powerful (where K is a parameter).\n",
    "        * I have used SelectKbest to choose the features. I have tested with different k values(4, 8, 12, 16, 20) and selected top 4 features i.e k =4. Scores are documented in enronproject.ipynb.\n",
    "\n",
    "\n",
    "After examining the scores of feature importances, SelectPercentile, graph and comparing the scores of SelectKbest at k = 4, 8, 12, 16, 20(all) features, I have selected the following features as final features.\n",
    "\n",
    "###### final features at k =4 using  kbest_features_list\n",
    "['poi',\n",
    " 'exercised_stock_options',\n",
    " 'total_stock_value',\n",
    " 'perc_to_poi',\n",
    " 'perc_bonus']\n",
    " \n",
    "Before I trained and evaluated the model, I thought the automatic approach should be better than the manual approach. The improving F1 score proved that I am correct. So I chose the kbest features list as the final features list.\n",
    "\n",
    "###### Scaling:\n",
    "\n",
    "* In this project, I have used GridSearchCV in combination with SelectKBest, StandardScaler() for SVM model and Kneighbors. \n",
    "\n",
    "* I also used GridSearchCV in combination with PCA, StandardScaler() for Logistic Regression.\n",
    "\n",
    "* And for remaining models used GridSearchCV in combination with SelectKBest as the algorithms doesn't require feature scaling.\n",
    "\n",
    "I  have used Pipeline to combine the feature scaling process and the model training process."
   ]
  },
  {
   "cell_type": "markdown",
   "metadata": {},
   "source": [
    "SelectPercentile selects the X% of features that are most powerful (where X is a parameter).\n",
    "    * Using SelectPercentile I have tested all the features and also the 4 most important features. Scores are documented in enronproject.ipynb.\n",
    "\n",
    "Let's plot the importance of features using SelectPercentile."
   ]
  },
  {
   "cell_type": "markdown",
   "metadata": {},
   "source": [
    "##### Let's plot the importances of the dataset."
   ]
  },
  {
   "cell_type": "code",
   "execution_count": 307,
   "metadata": {},
   "outputs": [
    {
     "data": {
      "image/png": "[encoded data removed]",
      "text/plain": [
       "<Figure size 1008x864 with 1 Axes>"
      ]
     },
     "metadata": {},
     "output_type": "display_data"
    }
   ],
   "source": [
    "plot_importance(enrondata_df_tr)"
   ]
  },
  {
   "cell_type": "markdown",
   "metadata": {},
   "source": [
    "By looking at the above graph I understood that 4 features are important. So I have removed the other features and saved the following features in a different data frame with_poi_enrondata_df.\n",
    "* Total_stock_value\n",
    "* exercised_stock_options\n",
    "* perc_bonus\n",
    "* perc_to_poi"
   ]
  },
  {
   "cell_type": "code",
   "execution_count": 411,
   "metadata": {},
   "outputs": [
    {
     "data": {
      "image/png": "[encoded data removed]",
      "text/plain": [
       "<Figure size 1008x864 with 1 Axes>"
      ]
     },
     "metadata": {},
     "output_type": "display_data"
    }
   ],
   "source": [
    "plot_importance(with_poi_enrondata_df)"
   ]
  },
  {
   "cell_type": "code",
   "execution_count": 414,
   "metadata": {},
   "outputs": [
    {
     "data": {
      "text/plain": [
       "['poi',\n",
       " 'total_stock_value',\n",
       " 'exercised_stock_options',\n",
       " 'perc_bonus',\n",
       " 'perc_to_poi']"
      ]
     },
     "execution_count": 414,
     "metadata": {},
     "output_type": "execute_result"
    }
   ],
   "source": [
    "four_imp_features_perc"
   ]
  },
  {
   "cell_type": "markdown",
   "metadata": {},
   "source": [
    "Using SelectPercentile I have taken all 20 features into consideration and documented the process, scores in Ipynb file and below. Again I have used SelectKbest to find the best k value and then used GridSearch to find the best parameters.\n",
    "The same process is applied to SelectPercentiles 4 important features also and scores are documented in Ipynb file and below."
   ]
  },
  {
   "cell_type": "markdown",
   "metadata": {},
   "source": [
    "Another method in Univariate feature selection is \n",
    "\n",
    "* SelectKBest selects the K features that are most powerful (where K is a parameter).\n",
    "    * I have used SelectKbest to choose the features. I have tested with different k values(4, 8, 12, 16, 20) and selected top 4 features i.e k =4. Scores are documented in enronproject.ipynb.\n",
    "\n",
    "After examining the scores of feature importances, SelectPercentile, graph and comparing the scores of SelectKbest at k = 4, 8, 12, 16, 20(all) features, I have selected the following features as final features.\n",
    "\n",
    "###### final features at k =4 using  SelectKbest method (kbest_features_list)\n",
    "\n",
    "['poi',\n",
    " 'exercised_stock_options',\n",
    " 'total_stock_value',\n",
    " 'perc_to_poi',\n",
    " 'perc_bonus']\n",
    " \n",
    "Before I trained and evaluated the model, I thought the automatic approach should be better than the manual approach. The improving F1 score proved that I am correct. So I chose the kbest features list as the final features list.\n",
    "\n",
    "###### Scaling:\n",
    "\n",
    "* In this project, I have used GridSearchCV in combination with SelectKBest, StandardScaler() for SVM model and Kneighbors. \n",
    "\n",
    "* I also used GridSearchCV in combination with PCA, StandardScaler() for Logistic Regression.\n",
    "\n",
    "* And for remaining models used GridSearchCV in combination with SelectKBest as the algorithms doesn't require feature scaling.\n",
    "\n",
    "I  have used Pipeline to combine the feature scaling process and the model training process."
   ]
  },
  {
   "cell_type": "markdown",
   "metadata": {},
   "source": [
    "###### Naive Bayes(NB):"
   ]
  },
  {
   "cell_type": "markdown",
   "metadata": {},
   "source": [
    "It is a classification technique based on Bayes’ Theorem with an assumption of independence among predictors. In simple terms, a Naive Bayes classifier assumes that the presence of a particular feature in a class is unrelated to the presence of any other feature. Naive Bayes model is easy to build and particularly useful for very large data sets. Along with simplicity, Naive Bayes is known to outperform even highly sophisticated classification methods. Which can be extremely fast relative to other classification algorithms."
   ]
  },
  {
   "cell_type": "markdown",
   "metadata": {},
   "source": [
    "###### Scaling:\n",
    "It has feature scaling by design. So no need to scale our features."
   ]
  },
  {
   "cell_type": "code",
   "execution_count": 854,
   "metadata": {},
   "outputs": [
    {
     "name": "stdout",
     "output_type": "stream",
     "text": [
      "{}\n"
     ]
    }
   ],
   "source": [
    "print(gnb_grid.best_params_)"
   ]
  },
  {
   "cell_type": "markdown",
   "metadata": {},
   "source": [
    "##### GaussianNB:\n",
    "###### original(old_features_list)\n",
    "Accuracy: 0.75553\tPrecision: 0.23379\tRecall: 0.36600\tF1: 0.28532\tF2: 0.32881\n",
    "###### selected_features_list(after adding new features)\n",
    "Accuracy: 0.78900\tPrecision: 0.37292\tRecall: 0.23550\tF1: 0.28869\tF2: 0.25424\n",
    "###### Kbest features(All 20 features)\n",
    "Accuracy: 0.78900\tPrecision: 0.37292\tRecall: 0.23550\tF1: 0.28869\tF2: 0.25424 \n",
    "###### Kbest features(k=12) Grid serach\n",
    "Accuracy: 0.80536\tPrecision: 0.44968\tRecall: 0.31500\tF1: 0.37048\tF2: 0.33507\n",
    "###### Select percentile(20 features)Importances\n",
    "Accuracy: 0.71555\tPrecision: 0.28146\tRecall: 0.36350\tF1: 0.31726\tF2: 0.34348\n",
    "###### Select percentile(k=18) GridSeach\n",
    "Accuracy: 0.72191\tPrecision: 0.28726\tRecall: 0.35750\tF1: 0.31856\tF2: 0.34083\n",
    "###### four_imp_features_perc\n",
    "Accuracy: 0.82336\tPrecision: 0.52608\tRecall: 0.28750\tF1: 0.37181\tF2: 0.31618\n",
    "###### four_imp_features_perc using Gridsearch\n",
    "Accuracy: 0.82336\tPrecision: 0.52608\tRecall: 0.28750\tF1: 0.37181\tF2: 0.31618\n",
    "###### Kbest scores at k =4\n",
    "Accuracy: 0.82336\tPrecision: 0.52608\tRecall: 0.28750\tF1: 0.37181\tF2: 0.31618\n",
    "###### Kbest scores at k =8\n",
    "Accuracy: 0.82182\tPrecision: 0.51757\tRecall: 0.29450\tF1: 0.37540\tF2: 0.32228\n",
    "###### Kbest scores at k = 12\n",
    "Accuracy: 0.79982\tPrecision: 0.42243\tRecall: 0.27500\tF1: 0.33313\tF2: 0.29564\n",
    "###### Kbest scores at k = 16\n",
    "Accuracy: 0.79236\tPrecision: 0.38836\tRecall: 0.24700\tF1: 0.30196\tF2: 0.26639\n",
    "\n",
    "Using SelectKbest at k = 8 got a better score of F1: 0.37540. It's nearly satisfying recall. So far this is the best score."
   ]
  },
  {
   "cell_type": "markdown",
   "metadata": {},
   "source": [
    "###### Support Vector Machine (SVM) "
   ]
  },
  {
   "cell_type": "markdown",
   "metadata": {},
   "source": [
    "“Support Vector Machine” (SVM) is a supervised machine learning algorithm which can be used for both classification or regression challenges. However,  it is mostly used in classification problems. In this algorithm, we plot each data item as a point in n-dimensional space (where n is the number of features you have) with the value of each feature being the value of a particular coordinate. Then, we perform classification by finding the hyperplane that differentiates the two classes very well"
   ]
  },
  {
   "cell_type": "markdown",
   "metadata": {},
   "source": [
    "###### Scaling:\n",
    "It needs feature scaling."
   ]
  },
  {
   "cell_type": "markdown",
   "metadata": {},
   "source": [
    "A lot of the features have vastly different scales. Examples are salary and emails. Salary range from 5000 $  up to million dollars or even above.\n",
    "Email features may be around hundreds to thousands in a particular time period. As I have created new features to make sure the scales are comparable, I'm going to run sklearn's Standard scaler over SVM."
   ]
  },
  {
   "cell_type": "markdown",
   "metadata": {},
   "source": [
    "###### Support Vector\n",
    "###### original(old_features_list)\n",
    "Accuracy: 0.74153\tPrecision: 0.25880\tRecall: 0.50350\tF1: 0.34188\tF2: 0.42343\n",
    "###### selected_features_list(after adding new features)\n",
    "Accuracy: 0.70373\tPrecision: 0.28330\tRecall: 0.41150\tF1: 0.33558\tF2: 0.37735\n",
    "\n",
    "After adding new features the score of F1 got decreased a little bit. So old or original features performed better. But Precision is below 0.3. Let's check SelectPercentile scores\n",
    "\n",
    "###### Select percentile(20 features)Importances\n",
    "Accuracy: 0.66055\tPrecision: 0.23567\tRecall: 0.38650\tF1: 0.29280\tF2: 0.34264\n",
    "###### Select percentile(k=5) GridSeach\n",
    "Accuracy: 0.71800\tPrecision: 0.35523\tRecall: 0.67600\tF1: 0.46573\tF2: 0.57259\n",
    "###### four_imp_features_perc\n",
    "Accuracy: 0.74609\tPrecision: 0.40100\tRecall: 0.80300\tF1: 0.53489\tF2: 0.66889\n",
    "###### four_imp_features_perc using Gridsearch\n",
    "Accuracy: 0.74609\tPrecision: 0.40100\tRecall: 0.80300\tF1: 0.53489\tF2: 0.66889\n",
    "\n",
    "The best score is \tF1: 0.53489 . This was achieved using 4 most important features of Select Percentile.\n",
    "Precision and recall are also good.\n",
    "\n",
    "Let's look at SelectKbest scores:\n",
    "###### Kbest features(All 20 features)\n",
    "Accuracy: 0.70373\tPrecision: 0.28330\tRecall: 0.41150\tF1: 0.33558\tF2: 0.37735\n",
    "###### Kbest features(At k =16)\n",
    "Accuracy: 0.66745\tPrecision: 0.31900\tRecall: 0.73050\tF1: 0.44407\tF2: 0.58068\n",
    "###### Kbest scores at k =4\n",
    "Accuracy: 0.74609\tPrecision: 0.40100\tRecall: 0.80300\tF1: 0.53489\tF2: 0.66889\n",
    "###### Kbest scores at k =8\n",
    "Accuracy: 0.74745\tPrecision: 0.39731\tRecall: 0.75250\tF1: 0.52004\tF2: 0.63836\n",
    "###### Kbest scores at k =12\n",
    "Accuracy: 0.64309\tPrecision: 0.29092\tRecall: 0.67000\tF1: 0.40569\tF2: 0.53149\n",
    "###### Kbest scores at k = 16\n",
    "Accuracy: 0.67382\tPrecision: 0.32762\tRecall: 0.75450\tF1: 0.45686\tF2: 0.59852\n",
    "\n",
    "Best F1 score of 0.53489 is achieved by SelectKbest at k = 4, Which is also same as SelectPercentile."
   ]
  },
  {
   "cell_type": "markdown",
   "metadata": {},
   "source": [
    "###### Decision Tree Classifier(DT)"
   ]
  },
  {
   "cell_type": "markdown",
   "metadata": {},
   "source": [
    "The decision tree is a type of supervised learning algorithm (having a pre-defined target variable) that is mostly used in classification problems. It works for both categorical and continuous input and output variables. In this technique, we split the population or sample into two or more homogeneous sets (or sub-populations) based on most significant splitter/differentiator in input variables."
   ]
  },
  {
   "cell_type": "markdown",
   "metadata": {},
   "source": [
    "###### Scaling:\n",
    "Decision tree doesn't require feature scaling."
   ]
  },
  {
   "cell_type": "markdown",
   "metadata": {},
   "source": [
    "##### Decision tree\n",
    "###### original(old_features_list)\n",
    "Accuracy: 0.79787\tPrecision: 0.22553\tRecall: 0.21200\tF1: 0.21856\tF2: 0.21457\n",
    "###### selected_features_list(after adding new features)\n",
    "Accuracy: 0.73118\tPrecision: 0.26556\tRecall: 0.27100\tF1: 0.26825\tF2: 0.26989\n",
    "\n",
    "After adding new features score improved from F1: 0.21856 to F1: 0.26825.\n",
    "\n",
    "###### Tree importances SelectKBest with k =8  before parameter tuning\n",
    "Accuracy: 0.72855\tPrecision: 0.25201\tRecall: 0.25050\tF1: 0.25125\tF2: 0.25080\n",
    "###### Tree importances SelectKBest with k = 8 parameter tuning\n",
    "Accuracy: 0.72809\tPrecision: 0.36546\tRecall: 0.67300\tF1: 0.47369\tF2: 0.57605\n",
    "###### k = 8 after parameter tuning with old features i.e without new features\n",
    "Accuracy: 0.59882\tPrecision: 0.21157\tRecall: 0.44250\tF1: 0.28627\tF2: 0.36321\n",
    "\n",
    "##### Importances conclusion\n",
    "We can say that score is improved for importances at k =8 after parameter tuning.  As the score is F1: 0.47369. And precison and recall are also above 0.3. So we can say that it's a better score.\n",
    "\n",
    "###### Select percentile(20 features)\n",
    "Accuracy: 0.74182\tPrecision: 0.29512\tRecall: 0.30250\tF1: 0.29877\tF2: 0.30100\n",
    "###### Select percentile(k=9) GridSeach\n",
    "Accuracy: 0.68582\tPrecision: 0.30388\tRecall: 0.56400\tF1: 0.39496\tF2: 0.48156\n",
    "###### four_imp_features_perc\n",
    "Accuracy: 0.77464\tPrecision: 0.37075\tRecall: 0.34350\tF1: 0.35661\tF2: 0.34862\n",
    "###### four_imp_features_perc using Gridsearch\n",
    "Accuracy: 0.69545\tPrecision: 0.31638\tRecall: 0.58150\tF1: 0.40980\tF2: 0.49803\n",
    "\n",
    "After using the SelectPercentiles 4 important features with Gridsearch got a score of 0.40980. Which is not the best score. As we already got a score of  0.47369 at k =8 from importances.\n",
    "\n",
    "###### Kbest features(All 20 features)\n",
    "Accuracy: 0.73482\tPrecision: 0.27601\tRecall: 0.28250\tF1: 0.27922\tF2: 0.28118\n",
    "###### Kbest features(At k =17)Gridsearch\n",
    "Accuracy: 0.73118\tPrecision: 0.36872\tRecall: 0.67200\tF1: 0.47617\tF2: 0.57707\n",
    "###### Kbest scores at k =4\n",
    "Accuracy: 0.76045\tPrecision: 0.40161\tRecall: 0.64800\tF1: 0.49589\tF2: 0.57718\n",
    "###### Kbest scores at k = 8\n",
    "Accuracy: 0.67664\tPrecision: 0.30961\tRecall: 0.63300\tF1: 0.41583\tF2: 0.52362\n",
    "###### Kbest scores at k = 12\n",
    "Accuracy: 0.65064\tPrecision: 0.29222\tRecall: 0.64800\tF1: 0.40280\tF2: 0.52111\n",
    "###### Kbest scores at k = 16\n",
    "Accuracy: 0.63309\tPrecision: 0.28550\tRecall: 0.67750\tF1: 0.40172\tF2: 0.53154\n",
    "\n",
    "##### Kbest features conclusion\n",
    "After comparing the scores of importances, SelectPercentile, Kbest, we can say that using SelectKbest at k =4 we got a better score of F1: 0.49589. Precision and recall are also above 0.3"
   ]
  },
  {
   "cell_type": "markdown",
   "metadata": {},
   "source": [
    "###### Logistic Regression(LR)"
   ]
  },
  {
   "cell_type": "markdown",
   "metadata": {},
   "source": [
    "Logistic Regression is a classification algorithm. It is used to predict a binary outcome (1 / 0, Yes / No, True / False) given a set of independent variables. To represent the binary / categorical outcome, we use dummy variables. You can also think of logistic regression as a special case of linear regression when the outcome variable is categorical, where we are using log of odds as a dependent variable. In simple words, it predicts the probability of occurrence of an event by fitting data to a logit function."
   ]
  },
  {
   "cell_type": "markdown",
   "metadata": {},
   "source": [
    "###### Scaling:\n",
    "No (unless regularized)."
   ]
  },
  {
   "cell_type": "markdown",
   "metadata": {},
   "source": [
    "penalty : str, ‘l1’ or ‘l2’, default: ‘l2’. Used to specify the norm used in the penalization. The ‘newton-cg’, ‘sag’ and ‘lbfgs’ solvers support only l2 penalties.\n",
    "\n",
    "tol : float, default: 1e-4. Tolerance for stopping criteria.\n",
    "\n",
    "class_weight : dict or ‘balanced’, default: None. Weights associated with classes in the form {class_label: weight}. If not given, all classes are supposed to have weight one.\n",
    "\n",
    "random_state : int, RandomState instance or None, optional, default: None\n",
    "The seed of the pseudo random number generator to use when shuffling the data. "
   ]
  },
  {
   "cell_type": "markdown",
   "metadata": {},
   "source": [
    "######  Logistic Regression\n",
    "###### original(old_features_list)\n",
    "Accuracy: 0.78180\tPrecision: 0.18063\tRecall: 0.18000\tF1: 0.18032\tF2: 0.18013\n",
    "###### selected_features_list(after adding new features)\n",
    "Accuracy: 0.71845\tPrecision: 0.22143\tRecall: 0.21800\tF1: 0.21970\tF2: 0.21868\n",
    "\n",
    "After creating new features score improved from F1: 0.18032 to F1: 0.21970.\n",
    "But precision and recall are below 0.3\n",
    "\n",
    "###### Select percentile(20 features)Importances\n",
    "Accuracy: 0.77127\tPrecision: 0.31492\tRecall: 0.21950\tF1: 0.25869\tF2: 0.23366\n",
    "###### Select percentile(k=11) GridSeach\n",
    "Accuracy: 0.79909\tPrecision: 0.38636\tRecall: 0.17850\tF1: 0.24419\tF2: 0.20002\n",
    "###### four_imp_features_perc\n",
    "Accuracy: 0.62173\tPrecision: 0.12651\tRecall: 0.18300\tF1: 0.14960\tF2: 0.16800\n",
    "###### four_imp_features_perc using Gridsearch\n",
    "Accuracy: 0.85600\tPrecision: 0.81138\tRecall: 0.27100\tF1: 0.40630\tF2: 0.31264\n",
    "\n",
    "Using the SelectPercentiles 4 important features using GridSearch fot a score of F1: 0.40630. But recall is below 0.3. As above methods are not giving a satisfying score. Let's look at the Kbest scores.\n",
    "\n",
    "###### Kbest features(All 20 features)\n",
    "Accuracy: 0.71927\tPrecision: 0.22273\tRecall: 0.21850\tF1: 0.22060\tF2: 0.21933\n",
    "###### Kbest features(At k =8)(Gridsearch)\n",
    "Accuracy: 0.81618\tPrecision: 0.48770\tRecall: 0.21800\tF1: 0.30131\tF2: 0.24511\n",
    "###### Kbest scores at k =4\n",
    "Accuracy: 0.85600\tPrecision: 0.81138\tRecall: 0.27100\tF1: 0.40630\tF2: 0.31264\n",
    "###### Kbest scores at k =8\n",
    "Accuracy: 0.83364\tPrecision: 0.61364\tRecall: 0.22950\tF1: 0.33406\tF2: 0.26235\n",
    "###### Kbest scores at k = 12\n",
    "Accuracy: 0.84073\tPrecision: 0.68731\tRecall: 0.22750\tF1: 0.34185\tF2: 0.26264\n",
    "###### Kbest scores at k = 16\n",
    "Accuracy: 0.82073\tPrecision: 0.53271\tRecall: 0.11400\tF1: 0.18781\tF2: 0.13526\n",
    "\n",
    "Using SelectKbest at k =4, I got a score of F1: 0.40630. But still recall is below 0.3. So far this is the best score."
   ]
  },
  {
   "cell_type": "markdown",
   "metadata": {},
   "source": [
    "###### KNN"
   ]
  },
  {
   "cell_type": "markdown",
   "metadata": {},
   "source": [
    "It can be used for both classification and regression problems. However, it is more widely used in classification problems in the industry. K nearest neighbors is a simple algorithm that stores all available cases and classifies new cases by a majority vote of its k neighbors. The case is assigned to the class is most common amongst its K nearest neighbors measured by a distance function.\n",
    "These distance functions can be Euclidean, Manhattan, Minkowski and Hamming distance. First three functions are used for continuous function and the fourth one (Hamming) for categorical variables. If K = 1, then the case is simply assigned to the class of its nearest neighbor. At times, choosing K turns out to be a challenge while performing kNN modeling."
   ]
  },
  {
   "cell_type": "markdown",
   "metadata": {},
   "source": [
    "###### Scaling:\n",
    "This algorithm measures the distances between pairs of samples. So we have to scale the features."
   ]
  },
  {
   "cell_type": "markdown",
   "metadata": {},
   "source": [
    "A lot of the features have vastly different scales. Examples are salary and emails. Salary range from 5000 $  up to million dollars or even above.\n",
    "Email features may be around hundreds to thousands in a particular time period. As I have created new features to make sure the scales are comparable, I'm going to run sklearn's Standard scaler over KNN."
   ]
  },
  {
   "cell_type": "markdown",
   "metadata": {},
   "source": [
    "n_neighbors : int, optional (default = 5) .Number of neighbors to use by default for kneighbors queries.\n",
    "\n",
    "weights : str or callable, optional (default = ‘uniform’). Weight function used in prediction. Possible values:‘uniform’, ‘distance’\n",
    "\n",
    "algorithm : {‘auto’, ‘ball_tree’, ‘kd_tree’, ‘brute’}, optional\n",
    "\n",
    "Algorithm used to compute the nearest neighbors: 'ball_tree’, 'kd_tree’ \n",
    "\n",
    "leaf_size : int, optional (default = 30).Leaf size passed to BallTree or KDTree. This can affect the speed of the construction and query, as well as the memory required to store the tree. The optimal value depends on the nature of the problem.\n",
    "\n",
    "p : integer, optional (default = 2). Power parameter for the Minkowski metric.\n",
    "\n",
    "n_jobs : int, optional (default = 1). The number of parallel jobs to run for neighbors search."
   ]
  },
  {
   "cell_type": "markdown",
   "metadata": {},
   "source": [
    "#### KNeighborsClassifier\n",
    "###### original(old_features_list)\n",
    "Accuracy: 0.87873\tPrecision: 0.64812\tRecall: 0.19800\tF1: 0.30333\tF2: 0.22994\n",
    "###### selected_features_list(after adding new features)\n",
    "Accuracy: 0.83636\tPrecision: 0.66949\tRecall: 0.19750\tF1: 0.30502\tF2: 0.22992\n",
    "\n",
    "After creating the new features score improved very little. Precision and recall are very low. \n",
    "\n",
    "###### Select percentile(20 features)Importances\n",
    "Accuracy: 0.84873\tPrecision: 0.80996\tRecall: 0.21950\tF1: 0.34540\tF2: 0.25697\n",
    "###### Select percentile(k=6) GridSeach\n",
    "Accuracy: 0.76309\tPrecision: 0.30895\tRecall: 0.24500\tF1: 0.27328\tF2: 0.25558\n",
    "###### four_imp_features_perc\n",
    "Accuracy: 0.84436\tPrecision: 0.73762\tRecall: 0.22350\tF1: 0.34305\tF2: 0.25970\n",
    "###### four_imp_features_perc using Gridsearch\n",
    "Accuracy: 0.83255\tPrecision: 0.54736\tRecall: 0.45650\tF1: 0.49782\tF2: 0.47218\n",
    "\n",
    "Using SelecPercentiles 4 important features with GridSearch got a score of F1: 0.49782. Which is better. Both precision and recall are above 0.3\n",
    "\n",
    "###### Kbest features(All 20 features)\n",
    "Accuracy: 0.83636\tPrecision: 0.66949\tRecall: 0.19750\tF1: 0.30502\tF2: 0.22992\n",
    "###### Kbest features(At k = 20)Grid search\n",
    "Accuracy: 0.80636\tPrecision: 0.45844\tRecall: 0.35850\tF1: 0.40236\tF2: 0.37484\n",
    "###### Kbest scores at k =4\n",
    "Accuracy: 0.83255\tPrecision: 0.54736\tRecall: 0.45650\tF1: 0.49782\tF2: 0.47218\n",
    "###### Kbest scores at k =8\n",
    "Accuracy: 0.74391\tPrecision: 0.22965\tRecall: 0.17350\tF1: 0.19766\tF2: 0.18242\n",
    "###### Kbest scores at k = 12\n",
    "Accuracy: 0.76436\tPrecision: 0.33574\tRecall: 0.30250\tF1: 0.31825\tF2: 0.30861\n",
    "###### Kbest scores at k = 16\n",
    "Accuracy: 0.77355\tPrecision: 0.35238\tRecall: 0.29300\tF1: 0.31996\tF2: 0.30322\n",
    "\n",
    "Using Selectkbest at k =4 got a score of F1: 0.49782, which is same as SelecPercentiles 4 important features. This is so far the best score."
   ]
  },
  {
   "cell_type": "markdown",
   "metadata": {},
   "source": [
    "###### Adaboost"
   ]
  },
  {
   "cell_type": "markdown",
   "metadata": {},
   "source": [
    "It fits a sequence of weak learners on different weighted training data. It starts by predicting the original data set and gives equal weight to each observation. If the prediction is incorrect using the first learner, then it gives higher weight to an observation which has been predicted incorrectly. Being an iterative process, it continues to add the learner(s) until a limit is reached in the number of models or accuracy.\n",
    "Mostly, we use decision stamps with AdaBoost. But, we can use any machine learning algorithms as the base learner if it accepts weight on training data set. We can use AdaBoost algorithms for both classification and regression problem."
   ]
  },
  {
   "cell_type": "markdown",
   "metadata": {},
   "source": [
    "###### Scaling:\n",
    "\n",
    "No feature scaling"
   ]
  },
  {
   "cell_type": "markdown",
   "metadata": {},
   "source": [
    "The most important parameters are base_estimator, n_estimators, and learning_rate.\n",
    "\n",
    "base_estimator : object, optional (default=DecisionTreeClassifier). The base estimator from which the boosted ensemble is built.\n",
    "\n",
    "n_estimators : integer, optional (default=50). The maximum number of estimators at which boosting is terminated.\n",
    "\n",
    "learning_rate : float, optional (default=1.). Learning rate shrinks the contribution of each classifier by learning_rate.\n",
    "\n",
    "algorithm : {‘SAMME’, ‘SAMME.R’}, optional (default=’SAMME.R’)\n",
    "\n",
    "random_state : int, RandomState instance or None, optional (default=None)"
   ]
  },
  {
   "cell_type": "markdown",
   "metadata": {},
   "source": [
    "##### AdaBoostClassifier:\n",
    "###### original(old_features_list)\n",
    "Accuracy: 0.84433\tPrecision: 0.39145\tRecall: 0.30200\tF1: 0.34095\tF2: 0.31646\n",
    "###### selected_features_list(after adding new features)\n",
    "Accuracy: 0.77945\tPrecision: 0.36223\tRecall: 0.28000\tF1: 0.31585\tF2: 0.29332\n",
    "\n",
    "After creating new features score decreased. So I can say that old or original features got a better score. Precision and recall are also above 0.3\n",
    "\n",
    "###### Importances SelectKBest with k = 9\n",
    "Accuracy: 0.76473\tPrecision: 0.32374\tRecall: 0.27000\tF1: 0.29444\tF2: 0.27927\n",
    "###### Importances SelectKBest with k = 9 after parameter tuning\n",
    "Accuracy: 0.39282\tPrecision: 0.21270\tRecall: 0.86600\tF1: 0.34152\tF2: 0.53646\n",
    "###### k = 9 after parameter tuning with old features i.e without new features\n",
    "Accuracy: 0.42718\tPrecision: 0.22169\tRecall: 0.85650\tF1: 0.35222\tF2: 0.54460\n",
    "\n",
    "The original set or old set  score is F1: 0.35222 with tuned parameters. For the newly created features set at k = 9 score is F1: 0.34152. which is not better.\n",
    "But it's not satisfying  Udacitys minimum score of 0.3 for precision. As we got a score of precision = 0.212. We can say that performance is decreased after creating new features. Original or old features list is  satisfying the requirement of Udacity.\n",
    "\n",
    "###### Select percentile(20 features)Importances\n",
    "Accuracy: 0.78755\tPrecision: 0.39567\tRecall: 0.31950\tF1: 0.35353\tF2: 0.33229\n",
    "###### Select percentile(k=19) GridSeach\n",
    "Accuracy: 0.60873\tPrecision: 0.26296\tRecall: 0.63900\tF1: 0.37259\tF2: 0.49689\n",
    "###### four_imp_features_perc\n",
    "Accuracy: 0.76455\tPrecision: 0.33143\tRecall: 0.29000\tF1: 0.30933\tF2: 0.29744\n",
    "###### four_imp_features_perc using Gridsearch\n",
    "Accuracy: 0.30391\tPrecision: 0.17796\tRecall: 0.78150\tF1: 0.28990\tF2: 0.46565\n",
    "\n",
    "Using SelectPercentile at k = 19 we got a score of F1: 0.37259. which is better than importances score. But recall is less than 0.3. As of now it is not satisfying the requirement of Udacity.\n",
    "\n",
    "###### Kbest features(All 20 features)\n",
    "Accuracy: 0.77900\tPrecision: 0.36070\tRecall: 0.27900\tF1: 0.31463\tF2: 0.29224\n",
    "###### Kbest features(At k =19)Grid search\n",
    "Accuracy: 0.81264\tPrecision: 0.47355\tRecall: 0.27300\tF1: 0.34634\tF2: 0.29826\n",
    "###### Kbest scores at k =4\n",
    "Accuracy: 0.74173\tPrecision: 0.33516\tRecall: 0.42750\tF1: 0.37574\tF2: 0.40517\n",
    "###### Kbest scores at k =8\n",
    "Accuracy: 0.65691\tPrecision: 0.23347\tRecall: 0.38850\tF1: 0.29167\tF2: 0.34296\n",
    "###### Kbest scores at k = 12\n",
    "Accuracy: 0.60573\tPrecision: 0.21437\tRecall: 0.43850\tF1: 0.28797\tF2: 0.36267\n",
    "###### Kbest scores at k = 16\n",
    "Accuracy: 0.48682\tPrecision: 0.23583\tRecall: 0.81350\tF1: 0.36566\tF2: 0.54601\n",
    "\n",
    "Using SelectKbest at k = 4, we got a score of F1: 0.37574. But precision and recall greater than 0.3. As of now it's the best score.\n"
   ]
  },
  {
   "cell_type": "markdown",
   "metadata": {},
   "source": [
    "###### Random Forest"
   ]
  },
  {
   "cell_type": "markdown",
   "metadata": {},
   "source": [
    "Random Forest is a trademark term for an ensemble of decision trees. In Random Forest, we have the collection of decision trees (so known as “Forest”). To classify a new object based on attributes, each tree gives a classification and we say the tree “votes” for that class. The forest chooses the classification having the most votes (over all the trees in the forest)."
   ]
  },
  {
   "cell_type": "markdown",
   "metadata": {},
   "source": [
    "###### Feature scaling:\n",
    "Random Forest does not require feature scaling."
   ]
  },
  {
   "cell_type": "markdown",
   "metadata": {},
   "source": [
    "n_estimators : integer, optional (default=10). The number of trees in the forest.\n",
    "\n",
    "criterion : string, optional (default=”gini”). The function to measure the quality of a split.\n",
    "max_features : int, float, string or None, optional (default=”auto”)\n",
    "The number of features to consider when looking for the best split:\n",
    "\n",
    "max_depth : integer or None, optional (default=None)The maximum depth of the tree.\n",
    "\n",
    "min_samples_split : int, float, optional (default=2)The minimum number of samples required to split an internal node\n",
    "\n",
    "n_samples_split as the minimum number.If float, then min_samples_split is a percentage and ceil(min_samples_split * n_samples) are the minimum number of samples for each split. Changed in version 0.18: Added float values for percentages.\n",
    "\n",
    "min_samples_leaf : int, float, optional (default=1).The minimum number of samples required to be at a leaf node:"
   ]
  },
  {
   "cell_type": "markdown",
   "metadata": {},
   "source": [
    "##### RandomForestClassifier\n",
    "###### original(old_features_list)\n",
    "Accuracy: 0.85580\tPrecision: 0.37818\tRecall: 0.12650\tF1: 0.18958\tF2: 0.14592\n",
    "###### selected_features_list(after adding new features)\n",
    "Accuracy: 0.80836\tPrecision: 0.41589\tRecall: 0.13350\tF1: 0.20212\tF2: 0.15448\n",
    "\n",
    "After creating new features we got a score of F1: 0.20212. That means it improved a little bit. But recall and F1 score are not satisfying Udacitys requirement of greater than 0.3. \n",
    "\n",
    "###### Importances SelectKBest with k = 9 before parameter tuning\n",
    "Accuracy: 0.80627\tPrecision: 0.42303\tRecall: 0.18000\tF1: 0.25254\tF2: 0.20337\n",
    "###### Importances SelectKBest with k = 9 after parameter tuning\n",
    "Accuracy: 0.78936\tPrecision: 0.34774\tRecall: 0.18100\tF1: 0.23808\tF2: 0.20020\n",
    "###### k =9 after parameter tuning with old features i.e without new features\n",
    "Accuracy: 0.78027\tPrecision: 0.27843\tRecall: 0.13100\tF1: 0.17817\tF2: 0.14652\n",
    "\n",
    "Importances SelectKBest with k = 9 before parameter tuning got a score of F1: 0.25254. Precision and recall are also not greater than 0.3. This score is not satisfying the requirement of Udcaity.\n",
    "\n",
    "###### Select percentile(20 features)Importances\n",
    "Accuracy: 0.81073\tPrecision: 0.44109\tRecall: 0.15350\tF1: 0.22774\tF2: 0.17652\n",
    "###### Select percentile(k=9) GridSeach\n",
    "Accuracy: 0.80336\tPrecision: 0.41265\tRecall: 0.19250\tF1: 0.26253\tF2: 0.21549\n",
    "###### four_imp_features_perc\n",
    "Accuracy: 0.82227\tPrecision: 0.52252\tRecall: 0.26100\tF1: 0.34812\tF2: 0.29003\n",
    "###### four_imp_features_perc using Gridsearch\n",
    "Accuracy: 0.80964\tPrecision: 0.46434\tRecall: 0.30600\tF1: 0.36890\tF2: 0.32840\n",
    "\n",
    "SelectPercentiles 4 important features using GridSearch got a score of F1: 0.36890. Precision and Recall are also greater than 0.3. So far this isthe best score.\n",
    "\n",
    "###### Kbest features(All 20 features)\n",
    "Accuracy: 0.80482\tPrecision: 0.38710\tRecall: 0.12600\tF1: 0.19012\tF2: 0.14565\n",
    "###### Kbest features(At k =6)Grid search\n",
    "Accuracy: 0.80518\tPrecision: 0.42203\tRecall: 0.19350\tF1: 0.26534\tF2: 0.21700\n",
    "###### Kbest scores at k =4\n",
    "Accuracy: 0.81882\tPrecision: 0.50290\tRecall: 0.30300\tF1: 0.37816\tF2: 0.32917\n",
    "###### Kbest scores at k =8\n",
    "Accuracy: 0.81045\tPrecision: 0.46017\tRecall: 0.24550\tF1: 0.32018\tF2: 0.27076\n",
    "###### Kbest scores at k = 12\n",
    "Accuracy: 0.79009\tPrecision: 0.33856\tRecall: 0.16200\tF1: 0.21914\tF2: 0.18086\n",
    "###### Kbest scores at k = 16\n",
    "Accuracy: 0.80845\tPrecision: 0.43185\tRecall: 0.16950\tF1: 0.24345\tF2: 0.19294\n",
    "\n",
    "SelectKbest score at k = 4 got a score of F1: 0.37816. Precision and recall are also greater than 0.3. So far this is the best score"
   ]
  },
  {
   "cell_type": "markdown",
   "metadata": {},
   "source": [
    "###### Best scores from above for GNB\n",
    "###### Kbest scores at k =8\n",
    "Accuracy: 0.82182\tPrecision: 0.51757\tRecall: 0.29450\tF1: 0.37540\tF2: 0.32228\n"
   ]
  },
  {
   "cell_type": "markdown",
   "metadata": {},
   "source": [
    "###### Best scores from above for SVM\n",
    "###### four_imp_features_perc\n",
    "Accuracy: 0.74609\tPrecision: 0.40100\tRecall: 0.80300\tF1: 0.53489\tF2: 0.66889\n",
    "###### four_imp_features_perc using Gridsearch\n",
    "Accuracy: 0.74609\tPrecision: 0.40100\tRecall: 0.80300\tF1: 0.53489\tF2: 0.66889\n",
    "\n",
    "###### Kbest scores at k =4\n",
    "Accuracy: 0.74609\tPrecision: 0.40100\tRecall: 0.80300\tF1: 0.53489\tF2: 0.66889\n",
    "###### Best Parameters\n",
    "{'classifier__degree': 1, 'classifier__class_weight': 'balanced', 'classifier__kernel': 'rbf', 'classifier__C': 1}"
   ]
  },
  {
   "cell_type": "markdown",
   "metadata": {},
   "source": [
    "###### Best scores from above for Decision Tree:\n",
    "###### Kbest scores at k =4\n",
    "Accuracy: 0.76045\tPrecision: 0.40161\tRecall: 0.64800\tF1: 0.49589\tF2: 0.57718\n",
    "###### Best  Parameters\n",
    "{'classifier__min_samples_split': 9, 'classifier__class_weight': 'balanced', 'classifier__criterion': 'gini', 'classifier__splitter': 'best', 'classifier__min_samples_leaf': 3}"
   ]
  },
  {
   "cell_type": "markdown",
   "metadata": {},
   "source": [
    "###### Best scores from above for Logistic Reg\n",
    "###### four_imp_features_perc using Gridsearch\n",
    "Accuracy: 0.85600\tPrecision: 0.81138\tRecall: 0.27100\tF1: 0.40630\tF2: 0.31264\n",
    "###### Best Parameters:\n",
    "{'classifier__penalty': 'l2', 'reducer__n_components': 1, 'reducer__whiten': False, 'reducer__svd_solver': 'auto'}\n",
    "###### Kbest scores at k =4\n",
    "Accuracy: 0.85600\tPrecision: 0.81138\tRecall: 0.27100\tF1: 0.40630\tF2: 0.31264\n",
    "###### Best Parameters\n",
    "{'classifier__penalty': 'l2', 'reducer__n_components': 1, 'reducer__whiten': False}"
   ]
  },
  {
   "cell_type": "markdown",
   "metadata": {},
   "source": [
    "###### Best scores from above for Kneighbors\n",
    "###### four_imp_features_perc using Gridsearch\n",
    "Accuracy: 0.83255\tPrecision: 0.54736\tRecall: 0.45650\tF1: 0.49782\tF2: 0.47218\n",
    "###### Parameters\n",
    "###### Kbest scores at k =4\n",
    "Accuracy: 0.83255\tPrecision: 0.54736\tRecall: 0.45650\tF1: 0.49782\tF2: 0.47218\n",
    "###### Parameters\n",
    "{'classifier__leaf_size': 1, 'classifier__n_neighbors': 1, 'reducer__n_components': 2, 'reducer__whiten': False}"
   ]
  },
  {
   "cell_type": "markdown",
   "metadata": {},
   "source": [
    "###### Best scores from above for Adaboost\n",
    "###### Kbest scores at k =4 gave the best performance\n",
    "Accuracy: 0.74173\tPrecision: 0.33516\tRecall: 0.42750\tF1: 0.37574\tF2: 0.40517\n",
    "###### Best Parameters\n",
    "{'classifier__learning_rate': 2.2, 'classifier__n_estimators': 15, 'classifier__algorithm': 'SAMME'}\n"
   ]
  },
  {
   "cell_type": "markdown",
   "metadata": {},
   "source": [
    "###### Best scores from above for RandomForest\n",
    "###### Kbest scores at k =4 gave the best  performance\n",
    "Accuracy: 0.81882\tPrecision: 0.50290\tRecall: 0.30300\tF1: 0.37816\tF2: 0.32917\n",
    "###### Best parameters:\n",
    "{'classifier__min_samples_split': 5, 'classifier__n_estimators': 8, 'classifier__max_features': 'auto', 'classifier__min_samples_leaf': 1}\n"
   ]
  },
  {
   "cell_type": "markdown",
   "metadata": {},
   "source": [
    "According to F1 scores ranking\n",
    "\n",
    "* First\n",
    "    * SVC\n",
    "* Second\n",
    "    * Kneighbors\n",
    "* Third\n",
    "    * Decision Tree\n"
   ]
  },
  {
   "cell_type": "markdown",
   "metadata": {},
   "source": [
    "###### 3. What algorithm did you end up using? What other one(s) did you try? How did model performance differ between algorithms?  [relevant rubric item: “pick an algorithm”]"
   ]
  },
  {
   "cell_type": "markdown",
   "metadata": {},
   "source": [
    "###### Ans:"
   ]
  },
  {
   "cell_type": "markdown",
   "metadata": {},
   "source": [
    "After evaluating the output of the classifiers above, I chose SVC Classifier for k = 4. Because it had the best-considered metric of F1 score.\n",
    "\n",
    "I think that it can further be tuned to get a better accuracy using different strategies. I also tried a variety of the other models, including Decision Tree, Kneighbors, Random Forest etc.\n",
    "\n",
    "Among these models, the best performance was achieved by SVC.\n",
    "\n",
    "The rank in the table is based on the F1 Score, which is a balanced metric of both precision and recall score."
   ]
  },
  {
   "cell_type": "markdown",
   "metadata": {},
   "source": [
    "###### 4.What does it mean to tune the parameters of an algorithm, and what can happen if you don’t do this well?  How did you tune the parameters of your particular algorithm? What parameters did you tune? (Some algorithms do not have parameters that you need to tune -- if this is the case for the one you picked, identify and briefly explain how you would have done it for the model that was not your final choice or a different model that does utilize parameter tuning, e.g. a decision tree classifier).  [relevant rubric items: “discuss parameter tuning”, “tune the algorithm”]\n"
   ]
  },
  {
   "cell_type": "markdown",
   "metadata": {},
   "source": [
    "###### Ans:\n",
    "\n",
    "Tuning the parameters of an algorithm is a very important step in machine learning project. Tuning the parameters means to adjust the parameters of the classifier in order to give the best performance. Classifiers have parameters which affect the performance of the model. Parameters are passed as arguments to the constructor of the estimator class. Many learning algorithms require users to input parameters before training the model. If the hyper-parameters are not set up properly, even the most suitable algorithm may have a bad performance. An example of the parameters for the K-nearest neighbor would be the number of neighbors. \n",
    "\n",
    "We can either try a lot of hyper-parameters set manually, or we can use some automatically parameters tuning strategies, such as GridSearchCV() and RandomizedSearchCV().\n",
    "\n",
    "So simply parameter tuning is the process of systematically searching for the best parameters by some predefined metrics. The formal definition of GridSearchCV is a way of systematically working through multiple combinations of parameter tunes, cross-validating as it goes to determine which tune gives the best performance.\n",
    "\n",
    "I have used Pipeline function, where parameters tuning is done using GridSearchCV and StratifiedShuffleSplit. Following parameters are used to tune the algorithms:\n",
    "\n",
    "1. SelectKBest: k(for all except Naive Bayes)\n",
    "\n",
    "2. Principal Components Analysis (PCA):\n",
    "\n",
    "* Logistic Regression\n",
    "    * n_components, whiten\n",
    "* Kneighbors\n",
    "    * n_components, whiten\n",
    "\n",
    "3. Logistic Regression: penalty\n",
    "\n",
    "4. Support Vector Classifier: C, gamma, kernel, degree\n",
    "\n",
    "5. Decision Tree: min_samples_split, min_samples_leaf, criterion, class_weight, splitter\n",
    "\n",
    "6. Random Forest: n_estimators, min_samples_leaf, max_features, min_samples_split\n",
    "\n",
    "7. KNeighbors: n_neighbors, leaf_size\n",
    "\n",
    "8. Adaboost: learning_rate, n_estimators, algorithm\n",
    "\n",
    "Best parameters for SVC:\n",
    "{'classifier__class_weight': 'balanced', 'classifier__C': 1, 'classifier__degree': 1, 'classifier__kernel': 'rbf'}\n",
    "\n",
    "Best parameters for KNN:\n",
    "{'classifier__leaf_size': 1, 'classifier__n_neighbors': 1, 'reducer__n_components': 2, 'reducer__whiten': False} \n",
    "\n",
    "Best parameters for decision tree:\n",
    "{'classifier__class_weight': 'balanced', 'classifier__criterion': 'gini', 'classifier__min_samples_leaf': 3, 'classifier__min_samples_split': 9, 'classifier__splitter': 'best'}\n",
    "\n",
    "\n",
    "###### Feature scaling:\n",
    "It can vary your results a lot  for some algorithms and have a minimal or no effect in others. \n",
    "\n",
    "Why Scaling:\n",
    "\n",
    "Most of the times, your dataset will contain features highly varying in magnitudes, units, and range. But since most of the machine learning algorithms use the Euclidean distance between two data points in their computations, this is a problem.\n",
    "\n",
    "If left alone, these algorithms only take in the magnitude of features neglecting the units. The results would vary greatly between different units, 5kg, and 5000gms. The features with high magnitudes will weigh in a lot more in the distance calculations than features with low magnitudes.\n",
    "\n",
    "To suppress this effect, we need to bring all features to the same level of magnitudes. This can be achieved by scaling.\n",
    "\n",
    "There are four common methods to perform Feature Scaling.\n",
    "\n",
    "* Standardisation:\n",
    "    * Standardisation replaces the values with their Z scores.\n",
    "* Mean Normalisation:\n",
    "    * This distribution will have values between -1 and 1 with μ=0.\n",
    "* Min-Max Scaling:\n",
    "    * This scaling brings the value between 0 and 1.\n",
    "* Unit Vector:\n",
    "    * Scaling is done considering the whole feature vector to be of unit length.\n",
    "\n",
    "###### When to Scale:\n",
    "* Rule of thumb to follow here is an algorithm that computes distance or assumes normality, scales your features!!!\n",
    "\n",
    "* Some examples of algorithms where feature scaling matters are:\n",
    "    * K-nearest neighbors with a Euclidean distance measure is sensitive to magnitudes and hence should be scaled for all features to weigh in equally.\n",
    "* Scaling is critical while performing Principal Component Analysis(PCA).\n",
    "* PCA tries to get the features with maximum variance and the variance is high for high magnitude features. This skews the PCA towards high magnitude features.\n",
    "* Tree-based models are not distance based models and can handle varying ranges of features. Hence, Scaling is not required while modeling trees.\n",
    "* While many algorithms (such as SVM, K-nearest neighbors, and logistic regression) require features to be normalized, intuitively we can think of Principle Component Analysis (PCA) as being a prime example of when normalization is important. \n"
   ]
  },
  {
   "cell_type": "markdown",
   "metadata": {},
   "source": [
    "###### 5.What is validation, and what’s a classic mistake you can make if you do it wrong? How did you validate your analysis?  [relevant rubric items: “discuss validation”, “validation strategy”]"
   ]
  },
  {
   "cell_type": "markdown",
   "metadata": {},
   "source": [
    "##### Ans:\n",
    "\n",
    "*  Validation is the process of evaluating the algorithm using a test set that has not been seen by the learning algorithm during training.\n",
    "* Classic mistake one can make is using the training data for testing the model.\n",
    "* First, separate the dataset into training data and testing data.\n",
    "* It is important to test the model with a different dataset or split the data into different parts one for training and one for testing.\n",
    "* Because if an algorithm learns and tests on the same data, then the model might repeat the target labels and likely there is a chance of getting a perfect score.\n",
    "\n",
    "Sklearn has several helper functions under Cross-validation. I have used StratifiedShuffleSplit for this project. As it is suitable for this dataset. We know that there is an imbalance in the number of POIs and Non-POIs. The StratifiedShuffleSplit ensures that the percentage of target labels is approximately the same in both training and validation sets as it is in the complete dataset.\n",
    "\n",
    "Validation importance: validation provides an assessment of the model's true generalization ability. A model that cannot generalize beyond the training dataset is of little use to solving real-world problems. Cross-validation helps to use all the data for training and all the data for testing so that I don't have to balance the split between training and test set. Here stratified shuffle split cross-validation is used due to the small dataset."
   ]
  },
  {
   "cell_type": "markdown",
   "metadata": {},
   "source": [
    "###### 6. Give at least 2 evaluation metrics and your average performance for each of them.  Explain an interpretation of your metrics that says something human-understandable about your algorithm’s performance. [relevant rubric item: “usage of evaluation metrics”]"
   ]
  },
  {
   "cell_type": "markdown",
   "metadata": {},
   "source": [
    "###### Ans:\n",
    "\n",
    "For this project, the objective was a precision and a recall both greater than 0.3. \n",
    "\n",
    "I have used precision score, recall score,  F1 score, F2 score as the evaluation metrics. \n",
    "\n",
    "Precision Score: number of true positives/ (number of true positives + number of false positives)\n",
    "\n",
    "A high precision means POIs identified by an algorithm tended to be correct.\n",
    "\n",
    "i.e precision measures how many predicted POIs are actually POIs.\n",
    "\n",
    "Recall Score: number of true positives/ (number of true positives + number of false negatives)\n",
    "\n",
    "A high recall means if there are POIs in the dataset, an algorithm has a good chance to identify them.\n",
    "\n",
    "Here recall measures how many POIs are successfully predicted. \n",
    "\n",
    "F1-Score: (2recallprecision) / (recall + precision)\n",
    "\n",
    " The F1 score is the harmonic mean of precision and recall. It's a more comprehensive metric because it balances the power between precision and recall.\n",
    "\n",
    "F2-Score: (5recallprecision) / (4*precision + recall).\n",
    "\n",
    "Generally, we want to build a model which has higher ratios for both “Precision Score” and “Recall Score”, but unfortunately in most cases, we have to trade off between these two metrics. So in order to evaluate the model using just one metric, we can use the harmonic mean of the “Precision Score” and “Recall Score” which is called “F1 Score”:\n",
    "\n",
    "\n",
    "I have tried to increase the F1 score of each algorithm. But my final selection is the SVC model. As the F1 score is better. Next best is Kneighbors, It's F1 score is also very near to the Decision Tree score. \n",
    "\n",
    "The average performance of these metrics was:\n",
    "\n",
    "###### Best scores from above for SVC\n",
    "###### Kbest scores at k =4 with tuned parameters\n",
    "Accuracy: 0.74609\tPrecision: 0.40100\tRecall: 0.80300\tF1: 0.53489\tF2: 0.66889\n",
    "###### Best Parameters \n",
    "{'classifier__degree': 1, 'classifier__class_weight': 'balanced', 'classifier__kernel': 'rbf', 'classifier__C': 1}\n",
    "###### old_features_list with tuned parameters\n",
    "Accuracy: 0.66627\tPrecision: 0.26094\tRecall: 0.45600\tF1: 0.33194\tF2: 0.39669\n",
    "\n",
    "###### Best scores from above for Kneighbors\n",
    "###### Kbest scores at k =4 with tuned parameters\n",
    "Accuracy: 0.83255\tPrecision: 0.54736\tRecall: 0.45650\tF1: 0.49782\tF2: 0.47218\n",
    "###### Parameters\n",
    "{'classifier__leaf_size': 1, 'classifier__n_neighbors': 1, 'reducer__n_components': 2, 'reducer__whiten': False}\n",
    "###### old_features_list with tuned parameters\n",
    "Accuracy: 0.74564\tPrecision: 0.24747\tRecall: 0.19550\tF1: 0.21844\tF2: 0.20407\n",
    "\n",
    "###### Best scores from above for Decision Tree:\n",
    "###### Kbest scores at k =4 with tuned parameters\n",
    "Accuracy: 0.76045\tPrecision: 0.40161\tRecall: 0.64800\tF1: 0.49589\tF2: 0.57718\n",
    "###### Best  Parameters\n",
    "{'classifier__min_samples_split': 9, 'classifier__class_weight': 'balanced', 'classifier__criterion': 'gini', 'classifier__splitter': 'best', 'classifier__min_samples_leaf': 3}\n",
    "###### old_features_list with tuned parameters\n",
    "Accuracy: 0.67818\tPrecision: 0.22695\tRecall: 0.32000\tF1: 0.26556\tF2: 0.29575\n",
    "\n",
    "From the above scores we can say that kbest_features_list performance at k = 4 is better, when compared to original features.\n",
    "\n",
    "In the above table:\n",
    "First Best:  SVC Classifier gives the highest F1 score.\n",
    "Second Best: Kneighbors Classifier\n",
    "Third Best: Decision Tree \n",
    "\n",
    "SVC:  \n",
    "\n",
    "Accuracy: 0.74609\tPrecision: 0.40100\tRecall: 0.80300\tF1: 0.53489\tF2: 0.66889\n",
    "\n",
    "A precision score of 0.401 means that the individuals labeled by my model as persons of interest, 40.1 % of them were actually persons of interest. A recall score of 0.803 means that my model identified 80.3 % of persons of interest present in the entire dataset. That means only 19.7% of Pois go undetected.\n",
    "\n",
    "A better recall score can be achieved. But when comparing all recall scores and F1 scores of classifiers, SVC Classifier got better scores.\n",
    "\n",
    "\n",
    "How to improve the score:\n",
    "\n",
    "It can be improved by:\n",
    "* Collecting high-quality data.\n",
    "* Exploration of data and cleaning outliers in a better way.\n",
    "* Create additional features.\n",
    "* Using different scaling options.\n",
    "* Analyzing the text in the emails. We have learned basics of the text learning in the mini-project provided by Udacity."
   ]
  },
  {
   "cell_type": "markdown",
   "metadata": {},
   "source": [
    "When tester.py is used to evaluate performance, precision and recall are both at least 0.3"
   ]
  },
  {
   "cell_type": "markdown",
   "metadata": {},
   "source": [
    "* Yes for SVC all are above .3\n",
    "* And also for Kneighbors classifier, Decision Tree"
   ]
  },
  {
   "cell_type": "markdown",
   "metadata": {},
   "source": [
    "###### References:\n",
    "\n",
    "* Dylan Lennard (Udacity Mentor)\n",
    "\n",
    "https://chrisalbon.com/machine_learning/model_selection/pipelines_with_parameter_optimization/\n",
    "\n",
    "\n",
    "https://stackoverflow.com/questions/43366561/use-sklearns-gridsearchcv-with-a-pipeline-preprocessing-just-once/43366811\n",
    "\n",
    "http://scikit-learn.org/stable/modules/generated/sklearn.ensemble.AdaBoostClassifier.html\n",
    "\n",
    "\n",
    "http://scikit-learn.org/stable/modules/generated/sklearn.ensemble.RandomForestClassifier.html\n",
    "\n",
    "https://www.analyticsvidhya.com/blog/2015/06/tuning-random-forest-model/\n",
    "\n",
    "https://kevinzakka.github.io/2016/07/13/k-nearest-neighbor/\n",
    "\n",
    "https://www.kaggle.com/mayu0116/hyper-parameters-tuning-of-dtree-rf-svm-knn\n",
    "\n",
    "https://www.analyticsvidhya.com/blog/2017/09/common-machine-learning-algorithms/\n",
    "\n",
    "https://www.analyticsvidhya.com/blog/2015/11/quick-introduction-boosting-algorithms-machine-learning/\n",
    "\n",
    "https://www.analyticsvidhya.com/blog/2018/06/comprehensive-guide-for-ensemble-models/\n",
    "\n",
    "https://www.analyticsvidhya.com/blog/2017/09/common-machine-learning-algorithms/\n",
    "\n",
    "https://www.analyticsvidhya.com/blog/2017/09/understaing-support-vector-machine-example-code/\n",
    "\n",
    "https://www.analyticsvidhya.com/blog/2016/03/practical-guide-principal-component-analysis-python/\n",
    "\n",
    "https://discuss.analyticsvidhya.com/t/scaling-and-standardizing-is-a-confusing-choice/19042\n",
    "\n",
    "https://stats.stackexchange.com/questions/121886/when-should-i-apply-feature-scaling-for-my-data\n",
    "\n",
    "https://medium.com/greyatom/why-how-and-when-to-scale-your-features-4b30ab09db5e\n",
    "\n",
    "\n",
    "http://scikit-learn.org/stable/auto_examples/preprocessing/plot_scaling_importance.html\n",
    "\n",
    "https://www.datacamp.com/community/blog/scikit-learn-cheat-sheet\n",
    "\n",
    "Stack Overflow\n",
    "\n",
    "https://towardsdatascience.com/@williamkoehrsen"
   ]
  },
  {
   "cell_type": "code",
   "execution_count": null,
   "metadata": {},
   "outputs": [],
   "source": []
  },
  {
   "cell_type": "code",
   "execution_count": null,
   "metadata": {},
   "outputs": [],
   "source": []
  }
 ],
 "metadata": {
  "kernelspec": {
   "display_name": "Python 3",
   "language": "python",
   "name": "python3"
  },
  "language_info": {
   "codemirror_mode": {
    "name": "ipython",
    "version": 3
   },
   "file_extension": ".py",
   "mimetype": "text/x-python",
   "name": "python",
   "nbconvert_exporter": "python",
   "pygments_lexer": "ipython3",
   "version": "3.5.5"
  }
 },
 "nbformat": 4,
 "nbformat_minor": 2
}
